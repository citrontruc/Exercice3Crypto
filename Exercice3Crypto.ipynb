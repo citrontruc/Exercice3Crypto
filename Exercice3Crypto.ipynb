{
 "cells": [
  {
   "cell_type": "markdown",
   "metadata": {},
   "source": [
    "# Exercice 3\n",
    "\n",
    "---\n",
    "\n",
    "Le but de ce notebook est d'étudier le jeu de données de la valeur des crypto afin de pouvoir faire une prédiction des gains possibles qu'on pourrait avoir.\n",
    "\n",
    "Pour des raisons de taille, le jeu de données n'a pas pu être uploadé avec le github. Il faudra donc le récupérer à [l'adresse suivante](https://www.kaggle.com/c/g-research-crypto-forecasting/data). Seul les jeux de données train.csv et asset_details.csv nous intéressent."
   ]
  },
  {
   "cell_type": "markdown",
   "metadata": {},
   "source": [
    "# Import des bibliothèques"
   ]
  },
  {
   "cell_type": "code",
   "execution_count": null,
   "metadata": {},
   "outputs": [],
   "source": [
    "from datetime import datetime\n",
    "import dateutil.tz\n",
    "import numpy as np\n",
    "import pandas as pd\n",
    "import plotly.express as px\n",
    "import plotly.graph_objects as go\n",
    "import seaborn as sns\n",
    "from sklearn.linear_model import LinearRegression\n",
    "import statsmodels.api as sm\n",
    "from statsmodels.tsa.seasonal import seasonal_decompose"
   ]
  },
  {
   "cell_type": "markdown",
   "metadata": {},
   "source": [
    "# Chargement des tables dans l'espace de travail"
   ]
  },
  {
   "cell_type": "code",
   "execution_count": null,
   "metadata": {},
   "outputs": [],
   "source": [
    "crypto_train = pd.read_csv(\"g-research-crypto-forecasting/train.csv\")\n",
    "# supplemental_train est une donnée d'entrainement fournie pour indication. Ne pas utiliser.\n",
    "#crypto_additional_train = pd.read_csv(\"g-research-crypto-forecasting/supplemental_train.csv\")\n",
    "crypto_info = pd.read_csv(\"g-research-crypto-forecasting/asset_details.csv\")"
   ]
  },
  {
   "cell_type": "code",
   "execution_count": null,
   "metadata": {},
   "outputs": [],
   "source": [
    "# Piège : la colonne timestamp possède une valeur assez peu lisible.\n",
    "crypto_train.head(5)"
   ]
  },
  {
   "cell_type": "markdown",
   "metadata": {},
   "source": [
    "# Partie 1 - Qualité des données\n",
    "\n",
    "1) Trouvez le nombre de lignes et de colonnes.\n",
    "1) Faites un join avec la table des infos pour restituer à chaque cryptomonnaie son nom.\n",
    "1) Trouvez le nombre de valeur manquantes. Quelle est la crypto-monnaie avec le plus de valeurs manquantes ?\n",
    "1) Créer une colonne date qui change la colonne timestamp en une vraie date.\n",
    "1) Timestamp maximal, minimal et nombre de points pour chacun de nos assets. Quelle semble être la granularité de notre timeseries ?\n",
    "1) Pour chacune des crypto-monnaies, de combien de points disposons-nous ? Que pouvons-nous dire en comparant avec la date minimal pour chacune de nos cryptomonnaies ?"
   ]
  },
  {
   "cell_type": "code",
   "execution_count": null,
   "metadata": {},
   "outputs": [],
   "source": []
  },
  {
   "cell_type": "markdown",
   "metadata": {},
   "source": [
    "# Partie 2 - Analyse données\n",
    "\n",
    "---\n",
    "\n",
    "## Explication des valeurs des colonnes.\n",
    "\n",
    "- **timestamp** : La minute considérée par la colonne.\n",
    "- **Asset_ID** & **Asset_Name** : identifiant de la crypto-monnaie.\n",
    "- **Count** : Nombre d'échanges de la monnaie lors de la minute.\n",
    "- **Open** & **Close** : Prix d'ouverture et de fermeture (prix au début et à la fin de la minute).\n",
    "- **High** & **Low** : Prix maximal et minimal atteint dans la minute.\n",
    "- **Volume** : Montant total échangé lors de la minute.\n",
    "- **VWAP** : Prix moyen sur la minute pondéré par volume de vente.\n",
    "- **Target** : Log du retour sur investissement sur les 15 prochaines minutes auquel on a appliqué une transformation. f(log(prix à l'instant t+16) - log(prix à l'instant t+1))\n",
    "- **Weight** : Lié à la cryptomonnaie. Importance de la crypto-monnaie (valeur arbitraire).\n",
    "\n",
    "---\n",
    "\n",
    "Nous n'allons pas utiliser les valeurs de weight et target. Nous allons essayer de prédire la VWAP de la monnaie avec 7j d'avance.\n",
    "\n",
    "---\n",
    "\n",
    "1) Calculez la corrélations entre les valeurs moyennes des différentes monnaies sur l'année 2021. Ce résultat vous étonne-t-il ?\n",
    "1) Au vue de la question précédente, nous allons nous intéresser uniquement au bitcoin pour l'instant. Identifiez les timestamp manquantes pour le bitcoin.\n",
    "1) Quand sont atteints les optimums et pourquoi ? Quand sont atteint les plus grands écarts min max en valeur puis en %\n",
    "1) Quels jours de la semaine, quels mois de l'année et quelles semaines de l'années y a-t-il le plus de transactions (en moyenne) ? Décomposez les statistiques selon les périodes qui vous semblent pertinentes.\n",
    "1) Faire un graphe qui présente par semaine le prix moyen des cryptomonnaies avec leur min et le max (dans le même graphe).\n",
    "1) Autocorrelation décalée pour voir s'il y a des périodicités.\n",
    "1) Faire des graphe qui présentent la tendance et  la saisonnalité des données.\n",
    "1) Quelle méthode utiliseriez-vous pour faire jeux de test et train ?"
   ]
  },
  {
   "cell_type": "code",
   "execution_count": null,
   "metadata": {},
   "outputs": [],
   "source": []
  },
  {
   "cell_type": "markdown",
   "metadata": {},
   "source": [
    "# Partie 3 - Prédiction\n",
    "\n",
    "---\n",
    "\n",
    "Notre but est de prédire la VWAP avec une semaine d'avance.\n",
    "Pour se simplifier la tâche, nous allons agglomérer les données à la maille jour avec le max qui est le max de la journée, le min est le min, le volume est la somme des volumes, la VWAP qui est la VWAP pondérée...\n",
    "\n",
    "---\n",
    "\n",
    "1) Mettez en forme le jeu de données et créez la variable cible à prédire.\n",
    "1) Rajoutez la semaine de l'année en tant que variable catégorique.\n",
    "1) Afin de préparer les prédictions, normalisez les données.\n",
    "1) Ajoutez comme features un historique des valeurs sur les dernières jours et toutes autres valeurs qui semblent intéressantes. (Dans les problèmes à saisonnalité, on aurait récupéré les valeurs des précédentes saisons)\n",
    "1) En choisissant judicieusement vos jeux d'entrainement et de tests, faites des prédictions en utilisant une régression linéaire. Evaluez les résultats.\n",
    "1) Transformez la variable cible, au lieu de prédire la valeur à jour + 1, nous allons prédire la différence entre valeur actuelle et valeur à jour + 1. Comparez les résultats, conclure.\n",
    "- SARIMAX (ne fonctionne que pour les données stationnaires + ne prend pas en compte les différentes variables) ==> Inutile ici. Notre problème n'est pas stationnaire.\n",
    "- Modèles \"classiques\". Problème : on ne prédit pas très bien le rapport entre les features. "
   ]
  },
  {
   "cell_type": "code",
   "execution_count": null,
   "metadata": {},
   "outputs": [],
   "source": []
  }
 ],
 "metadata": {
  "kernelspec": {
   "display_name": "Python 3",
   "language": "python",
   "name": "python3"
  },
  "language_info": {
   "codemirror_mode": {
    "name": "ipython",
    "version": 3
   },
   "file_extension": ".py",
   "mimetype": "text/x-python",
   "name": "python",
   "nbconvert_exporter": "python",
   "pygments_lexer": "ipython3",
   "version": "3.11.6"
  }
 },
 "nbformat": 4,
 "nbformat_minor": 2
}
